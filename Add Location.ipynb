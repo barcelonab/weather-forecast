{
 "cells": [
  {
   "cell_type": "code",
   "execution_count": null,
   "id": "5384346d",
   "metadata": {},
   "outputs": [],
   "source": []
  },
  {
   "cell_type": "code",
   "execution_count": null,
   "id": "55400e6c",
   "metadata": {},
   "outputs": [],
   "source": [
    "from pyspark.sql.functions import when, col, udf\n",
    "from pyspark.sql.types import StringType\n",
    "# ensure the below library is installed on your fabric environment\n",
    "from geopy.geocoders import Nominatim"
   ]
  },
  {
   "cell_type": "code",
   "execution_count": null,
   "id": "16408a77",
   "metadata": {},
   "outputs": [],
   "source": [
    "df = spark.read.table('location')"
   ]
  },
  {
   "cell_type": "code",
   "execution_count": null,
   "id": "439210eb",
   "metadata": {},
   "outputs": [],
   "source": [
    "# Create geolocator \n",
    "def reverse_geocode(lat, lon):\n",
    "    try:\n",
    "        geolocator = Nominatim(user_agent=\"geoapi\")\n",
    "        location = geolocator.reverse((lat, lon), language=\"en\", timeout=10)\n",
    "        # Return whichever field is available (city, town, village, etc.)\n",
    "        if location and \"address\" in location.raw:\n",
    "            address = location.raw[\"address\"]\n",
    "            city = address.get(\"city\")\n",
    "            state = address.get(\"state\")\n",
    "            return f\"{city}, {state}\"\n",
    "    except:\n",
    "        return None"
   ]
  },
  {
   "cell_type": "code",
   "execution_count": null,
   "id": "975c76ad",
   "metadata": {},
   "outputs": [],
   "source": [
    "# Register as UDF\n",
    "reverse_geocode_udf = udf(reverse_geocode, StringType())"
   ]
  },
  {
   "cell_type": "code",
   "execution_count": null,
   "id": "a1e7c662",
   "metadata": {},
   "outputs": [],
   "source": [
    "# adding country_code and city attributes\n",
    "df_with_location = df.\\\n",
    "                    withColumn(\"city\", \\\n",
    "                    reverse_geocode_udf(col(\"latitude\"), col(\"longitude\")))"
   ]
  },
  {
   "cell_type": "code",
   "execution_count": null,
   "id": "25a89e07",
   "metadata": {},
   "outputs": [],
   "source": [
    "# appending the data to the gold table\n",
    "df_with_location.write.option(\"mergeSchema\", \"true\").mode('overwrite').saveAsTable('location')"
   ]
  }
 ],
 "metadata": {
  "language_info": {
   "name": "python"
  }
 },
 "nbformat": 4,
 "nbformat_minor": 5
}
